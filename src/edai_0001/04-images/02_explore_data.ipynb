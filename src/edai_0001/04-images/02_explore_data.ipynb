{
 "cells": [
  {
   "cell_type": "markdown",
   "metadata": {},
   "source": [
    "# Explorar nosso Dataset"
   ]
  },
  {
   "cell_type": "code",
   "execution_count": 6,
   "metadata": {},
   "outputs": [],
   "source": [
    "import pandas as pd\n",
    "\n",
    "pd.options.display.max_columns = None\n",
    "pd.options.display.max_rows = None\n",
    "pd.options.display.max_colwidth = None\n"
   ]
  },
  {
   "cell_type": "code",
   "execution_count": 7,
   "metadata": {},
   "outputs": [
    {
     "data": {
      "text/plain": [
       "Index(['Uniq Id', 'Product Name', 'Brand Name', 'Asin', 'Category',\n",
       "       'Upc Ean Code', 'List Price', 'Selling Price', 'Quantity',\n",
       "       'Model Number', 'About Product', 'Product Specification',\n",
       "       'Technical Details', 'Shipping Weight', 'Product Dimensions', 'Image',\n",
       "       'Variants', 'Sku', 'Product Url', 'Stock', 'Product Details',\n",
       "       'Dimensions', 'Color', 'Ingredients', 'Direction To Use',\n",
       "       'Is Amazon Seller', 'Size Quantity Variant', 'Product Description',\n",
       "       'LocalImage'],\n",
       "      dtype='object')"
      ]
     },
     "execution_count": 7,
     "metadata": {},
     "output_type": "execute_result"
    }
   ],
   "source": [
    "DATASET_FRACTION = 0.1\n",
    "\n",
    "dataset_path = 'data/images/home/sdf/marketing_sample_for_amazon_com-ecommerce__20200101_20200131__10k_data.csv'\n",
    "\n",
    "dataset_df = pd.read_csv(dataset_path).sample(frac=DATASET_FRACTION)\n",
    "dataset_df.columns"
   ]
  },
  {
   "cell_type": "code",
   "execution_count": 8,
   "metadata": {},
   "outputs": [
    {
     "data": {
      "text/html": [
       "<div>\n",
       "<style scoped>\n",
       "    .dataframe tbody tr th:only-of-type {\n",
       "        vertical-align: middle;\n",
       "    }\n",
       "\n",
       "    .dataframe tbody tr th {\n",
       "        vertical-align: top;\n",
       "    }\n",
       "\n",
       "    .dataframe thead th {\n",
       "        text-align: right;\n",
       "    }\n",
       "</style>\n",
       "<table border=\"1\" class=\"dataframe\">\n",
       "  <thead>\n",
       "    <tr style=\"text-align: right;\">\n",
       "      <th></th>\n",
       "      <th>Product Name</th>\n",
       "      <th>Image</th>\n",
       "    </tr>\n",
       "  </thead>\n",
       "  <tbody>\n",
       "    <tr>\n",
       "      <th>471</th>\n",
       "      <td>Janod Confetti Guitar</td>\n",
       "      <td>https://images-na.ssl-images-amazon.com/images/I/51K8v4JqQ0L.jpg</td>\n",
       "    </tr>\n",
       "    <tr>\n",
       "      <th>237</th>\n",
       "      <td>Smart Start Puppy Up</td>\n",
       "      <td>https://images-na.ssl-images-amazon.com/images/I/41F2NJVuUML.jpg</td>\n",
       "    </tr>\n",
       "    <tr>\n",
       "      <th>56</th>\n",
       "      <td>Bandai Hobby Star Wars 1/12 Darth Vader (Return of the Jedi Ver.) \"Star Wars\" Model Kit</td>\n",
       "      <td>https://images-na.ssl-images-amazon.com/images/I/41BnigshiFL.jpg</td>\n",
       "    </tr>\n",
       "    <tr>\n",
       "      <th>568</th>\n",
       "      <td>Hohner Kids MP383 Musical Shapes, 20 Piece, 3 Unique Shapes, Assorted Colors</td>\n",
       "      <td>https://images-na.ssl-images-amazon.com/images/I/41o9A6euVpL.jpg</td>\n",
       "    </tr>\n",
       "    <tr>\n",
       "      <th>20</th>\n",
       "      <td>WOW Watersports 18-2000 Slide N Smile Floating 2 Lane Waterslide, 9 Feet Long</td>\n",
       "      <td>https://images-na.ssl-images-amazon.com/images/I/512ZrRUUM-L.jpg</td>\n",
       "    </tr>\n",
       "  </tbody>\n",
       "</table>\n",
       "</div>"
      ],
      "text/plain": [
       "                                                                                Product Name  \\\n",
       "471                                                                    Janod Confetti Guitar   \n",
       "237                                                                     Smart Start Puppy Up   \n",
       "56   Bandai Hobby Star Wars 1/12 Darth Vader (Return of the Jedi Ver.) \"Star Wars\" Model Kit   \n",
       "568             Hohner Kids MP383 Musical Shapes, 20 Piece, 3 Unique Shapes, Assorted Colors   \n",
       "20             WOW Watersports 18-2000 Slide N Smile Floating 2 Lane Waterslide, 9 Feet Long   \n",
       "\n",
       "                                                                Image  \n",
       "471  https://images-na.ssl-images-amazon.com/images/I/51K8v4JqQ0L.jpg  \n",
       "237  https://images-na.ssl-images-amazon.com/images/I/41F2NJVuUML.jpg  \n",
       "56   https://images-na.ssl-images-amazon.com/images/I/41BnigshiFL.jpg  \n",
       "568  https://images-na.ssl-images-amazon.com/images/I/41o9A6euVpL.jpg  \n",
       "20   https://images-na.ssl-images-amazon.com/images/I/512ZrRUUM-L.jpg  "
      ]
     },
     "execution_count": 8,
     "metadata": {},
     "output_type": "execute_result"
    }
   ],
   "source": [
    "#dataset_df.head(5)\n",
    "dataset_df[['Product Name', 'Image']].head(5)"
   ]
  },
  {
   "cell_type": "code",
   "execution_count": 25,
   "metadata": {},
   "outputs": [],
   "source": [
    "# Removendo última imagem (transparent pixel)\n",
    "dataset_df[\"Image\"] = dataset_df[\"Image\"].map(lambda x: x.split(\"|\")[:-1])"
   ]
  },
  {
   "cell_type": "code",
   "execution_count": 22,
   "metadata": {},
   "outputs": [
    {
     "data": {
      "text/html": [
       "<div>\n",
       "<style scoped>\n",
       "    .dataframe tbody tr th:only-of-type {\n",
       "        vertical-align: middle;\n",
       "    }\n",
       "\n",
       "    .dataframe tbody tr th {\n",
       "        vertical-align: top;\n",
       "    }\n",
       "\n",
       "    .dataframe thead th {\n",
       "        text-align: right;\n",
       "    }\n",
       "</style>\n",
       "<table border=\"1\" class=\"dataframe\">\n",
       "  <thead>\n",
       "    <tr style=\"text-align: right;\">\n",
       "      <th></th>\n",
       "      <th>Product Name</th>\n",
       "      <th>Image</th>\n",
       "    </tr>\n",
       "  </thead>\n",
       "  <tbody>\n",
       "    <tr>\n",
       "      <th>1158</th>\n",
       "      <td>Stacktopus Kids Game</td>\n",
       "      <td>[https://images-na.ssl-images-amazon.com/images/I/516AgV%2Ba6aL.jpg, https://images-na.ssl-images-amazon.com/images/I/51Gwo5a8OfL.jpg, https://images-na.ssl-images-amazon.com/images/I/51VjMI4lraL.jpg, https://images-na.ssl-images-amazon.com/images/I/51q%2BNM6ni9L.jpg, https://images-na.ssl-images-amazon.com/images/I/51KuVkhNa%2BL.jpg, https://images-na.ssl-images-amazon.com/images/I/51SLK5Pqh%2BL.jpg, https://images-na.ssl-images-amazon.com/images/I/61iDZZtUHQL.jpg]</td>\n",
       "    </tr>\n",
       "    <tr>\n",
       "      <th>3252</th>\n",
       "      <td>Marvel Spider-Man LED Canvas Wall Art</td>\n",
       "      <td>[https://images-na.ssl-images-amazon.com/images/I/51NXnXhNIHL.jpg, https://images-na.ssl-images-amazon.com/images/I/51DVZiNWWeL.jpg, https://images-na.ssl-images-amazon.com/images/I/51hAU%2BRW5dL.jpg, https://images-na.ssl-images-amazon.com/images/I/41X8gV4WT7L.jpg]</td>\n",
       "    </tr>\n",
       "    <tr>\n",
       "      <th>2611</th>\n",
       "      <td>Moore Ideal Products 13270 Race Duty Steel CVD Kit - Rear - Traxxas Slash 4x4 - Stampede 4x4 - Rally</td>\n",
       "      <td>[https://images-na.ssl-images-amazon.com/images/I/41MHj1xWCZL.jpg, https://images-na.ssl-images-amazon.com/images/I/41d%2BoFurnNL.jpg]</td>\n",
       "    </tr>\n",
       "    <tr>\n",
       "      <th>7971</th>\n",
       "      <td>Rubie's Costume Guardians of The Galaxy Vol. 2 Child's Star-Lord 3/4 Mask</td>\n",
       "      <td>[https://images-na.ssl-images-amazon.com/images/I/51CFkzUyI%2BL.jpg]</td>\n",
       "    </tr>\n",
       "    <tr>\n",
       "      <th>539</th>\n",
       "      <td>Aurora World Fantasy Unicorn Plush, One Size, Purple / Pink / White</td>\n",
       "      <td>[https://images-na.ssl-images-amazon.com/images/I/31SQsLw5lXL.jpg]</td>\n",
       "    </tr>\n",
       "  </tbody>\n",
       "</table>\n",
       "</div>"
      ],
      "text/plain": [
       "                                                                                              Product Name  \\\n",
       "1158                                                                                  Stacktopus Kids Game   \n",
       "3252                                                                 Marvel Spider-Man LED Canvas Wall Art   \n",
       "2611  Moore Ideal Products 13270 Race Duty Steel CVD Kit - Rear - Traxxas Slash 4x4 - Stampede 4x4 - Rally   \n",
       "7971                             Rubie's Costume Guardians of The Galaxy Vol. 2 Child's Star-Lord 3/4 Mask   \n",
       "539                                    Aurora World Fantasy Unicorn Plush, One Size, Purple / Pink / White   \n",
       "\n",
       "                                                                                                                                                                                                                                                                                                                                                                                                                                                                                       Image  \n",
       "1158  [https://images-na.ssl-images-amazon.com/images/I/516AgV%2Ba6aL.jpg, https://images-na.ssl-images-amazon.com/images/I/51Gwo5a8OfL.jpg, https://images-na.ssl-images-amazon.com/images/I/51VjMI4lraL.jpg, https://images-na.ssl-images-amazon.com/images/I/51q%2BNM6ni9L.jpg, https://images-na.ssl-images-amazon.com/images/I/51KuVkhNa%2BL.jpg, https://images-na.ssl-images-amazon.com/images/I/51SLK5Pqh%2BL.jpg, https://images-na.ssl-images-amazon.com/images/I/61iDZZtUHQL.jpg]  \n",
       "3252                                                                                                                                                                                                              [https://images-na.ssl-images-amazon.com/images/I/51NXnXhNIHL.jpg, https://images-na.ssl-images-amazon.com/images/I/51DVZiNWWeL.jpg, https://images-na.ssl-images-amazon.com/images/I/51hAU%2BRW5dL.jpg, https://images-na.ssl-images-amazon.com/images/I/41X8gV4WT7L.jpg]  \n",
       "2611                                                                                                                                                                                                                                                                                                                                                  [https://images-na.ssl-images-amazon.com/images/I/41MHj1xWCZL.jpg, https://images-na.ssl-images-amazon.com/images/I/41d%2BoFurnNL.jpg]  \n",
       "7971                                                                                                                                                                                                                                                                                                                                                                                                                    [https://images-na.ssl-images-amazon.com/images/I/51CFkzUyI%2BL.jpg]  \n",
       "539                                                                                                                                                                                                                                                                                                                                                                                                                       [https://images-na.ssl-images-amazon.com/images/I/31SQsLw5lXL.jpg]  "
      ]
     },
     "execution_count": 22,
     "metadata": {},
     "output_type": "execute_result"
    }
   ],
   "source": [
    "dataset_df[['Product Name', 'Image']].head(5)"
   ]
  },
  {
   "cell_type": "code",
   "execution_count": 28,
   "metadata": {},
   "outputs": [
    {
     "data": {
      "text/html": [
       "<div>\n",
       "<style scoped>\n",
       "    .dataframe tbody tr th:only-of-type {\n",
       "        vertical-align: middle;\n",
       "    }\n",
       "\n",
       "    .dataframe tbody tr th {\n",
       "        vertical-align: top;\n",
       "    }\n",
       "\n",
       "    .dataframe thead th {\n",
       "        text-align: right;\n",
       "    }\n",
       "</style>\n",
       "<table border=\"1\" class=\"dataframe\">\n",
       "  <thead>\n",
       "    <tr style=\"text-align: right;\">\n",
       "      <th></th>\n",
       "      <th>Product Name</th>\n",
       "      <th>Image</th>\n",
       "    </tr>\n",
       "  </thead>\n",
       "  <tbody>\n",
       "    <tr>\n",
       "      <th>9255</th>\n",
       "      <td>The Kids Room by Stupell Big Beautiful World Map Wall Art Signs and Plaques, 10x15</td>\n",
       "      <td>https://images-na.ssl-images-amazon.com/images/I/51FK0PX9U%2BL.jpg</td>\n",
       "    </tr>\n",
       "    <tr>\n",
       "      <th>9255</th>\n",
       "      <td>The Kids Room by Stupell Big Beautiful World Map Wall Art Signs and Plaques, 10x15</td>\n",
       "      <td>https://images-na.ssl-images-amazon.com/images/I/317eVMBx%2BaL.jpg</td>\n",
       "    </tr>\n",
       "    <tr>\n",
       "      <th>9255</th>\n",
       "      <td>The Kids Room by Stupell Big Beautiful World Map Wall Art Signs and Plaques, 10x15</td>\n",
       "      <td>https://images-na.ssl-images-amazon.com/images/I/31rvUSJdkNL.jpg</td>\n",
       "    </tr>\n",
       "    <tr>\n",
       "      <th>9255</th>\n",
       "      <td>The Kids Room by Stupell Big Beautiful World Map Wall Art Signs and Plaques, 10x15</td>\n",
       "      <td>https://images-na.ssl-images-amazon.com/images/I/41a9ESDv08L.jpg</td>\n",
       "    </tr>\n",
       "    <tr>\n",
       "      <th>9255</th>\n",
       "      <td>The Kids Room by Stupell Big Beautiful World Map Wall Art Signs and Plaques, 10x15</td>\n",
       "      <td>https://images-na.ssl-images-amazon.com/images/I/51Ir2WqeDkL.jpg</td>\n",
       "    </tr>\n",
       "    <tr>\n",
       "      <th>9255</th>\n",
       "      <td>The Kids Room by Stupell Big Beautiful World Map Wall Art Signs and Plaques, 10x15</td>\n",
       "      <td>https://images-na.ssl-images-amazon.com/images/I/51QkTpEH8QL.jpg</td>\n",
       "    </tr>\n",
       "    <tr>\n",
       "      <th>9255</th>\n",
       "      <td>The Kids Room by Stupell Big Beautiful World Map Wall Art Signs and Plaques, 10x15</td>\n",
       "      <td>https://images-na.ssl-images-amazon.com/images/I/21nmfYyiwnL.jpg</td>\n",
       "    </tr>\n",
       "    <tr>\n",
       "      <th>5997</th>\n",
       "      <td>PLAYMOBIL 9462 Spielzeug-Große Feuerwache &amp; 9466 Spielzeug-Feuerwehr-Truck</td>\n",
       "      <td>https://images-na.ssl-images-amazon.com/images/I/51eqP6fToBL.jpg</td>\n",
       "    </tr>\n",
       "    <tr>\n",
       "      <th>5997</th>\n",
       "      <td>PLAYMOBIL 9462 Spielzeug-Große Feuerwache &amp; 9466 Spielzeug-Feuerwehr-Truck</td>\n",
       "      <td>https://images-na.ssl-images-amazon.com/images/I/61AIlvKCNvL.jpg</td>\n",
       "    </tr>\n",
       "    <tr>\n",
       "      <th>5997</th>\n",
       "      <td>PLAYMOBIL 9462 Spielzeug-Große Feuerwache &amp; 9466 Spielzeug-Feuerwehr-Truck</td>\n",
       "      <td>https://images-na.ssl-images-amazon.com/images/I/51oFTV2zu8L.jpg</td>\n",
       "    </tr>\n",
       "  </tbody>\n",
       "</table>\n",
       "</div>"
      ],
      "text/plain": [
       "                                                                            Product Name  \\\n",
       "9255  The Kids Room by Stupell Big Beautiful World Map Wall Art Signs and Plaques, 10x15   \n",
       "9255  The Kids Room by Stupell Big Beautiful World Map Wall Art Signs and Plaques, 10x15   \n",
       "9255  The Kids Room by Stupell Big Beautiful World Map Wall Art Signs and Plaques, 10x15   \n",
       "9255  The Kids Room by Stupell Big Beautiful World Map Wall Art Signs and Plaques, 10x15   \n",
       "9255  The Kids Room by Stupell Big Beautiful World Map Wall Art Signs and Plaques, 10x15   \n",
       "9255  The Kids Room by Stupell Big Beautiful World Map Wall Art Signs and Plaques, 10x15   \n",
       "9255  The Kids Room by Stupell Big Beautiful World Map Wall Art Signs and Plaques, 10x15   \n",
       "5997          PLAYMOBIL 9462 Spielzeug-Große Feuerwache & 9466 Spielzeug-Feuerwehr-Truck   \n",
       "5997          PLAYMOBIL 9462 Spielzeug-Große Feuerwache & 9466 Spielzeug-Feuerwehr-Truck   \n",
       "5997          PLAYMOBIL 9462 Spielzeug-Große Feuerwache & 9466 Spielzeug-Feuerwehr-Truck   \n",
       "\n",
       "                                                                   Image  \n",
       "9255  https://images-na.ssl-images-amazon.com/images/I/51FK0PX9U%2BL.jpg  \n",
       "9255  https://images-na.ssl-images-amazon.com/images/I/317eVMBx%2BaL.jpg  \n",
       "9255    https://images-na.ssl-images-amazon.com/images/I/31rvUSJdkNL.jpg  \n",
       "9255    https://images-na.ssl-images-amazon.com/images/I/41a9ESDv08L.jpg  \n",
       "9255    https://images-na.ssl-images-amazon.com/images/I/51Ir2WqeDkL.jpg  \n",
       "9255    https://images-na.ssl-images-amazon.com/images/I/51QkTpEH8QL.jpg  \n",
       "9255    https://images-na.ssl-images-amazon.com/images/I/21nmfYyiwnL.jpg  \n",
       "5997    https://images-na.ssl-images-amazon.com/images/I/51eqP6fToBL.jpg  \n",
       "5997    https://images-na.ssl-images-amazon.com/images/I/61AIlvKCNvL.jpg  \n",
       "5997    https://images-na.ssl-images-amazon.com/images/I/51oFTV2zu8L.jpg  "
      ]
     },
     "execution_count": 28,
     "metadata": {},
     "output_type": "execute_result"
    }
   ],
   "source": [
    "# Explodindo a lista de imagens (uma linha para cada imagem)\n",
    "dataset_df = dataset_df.explode(\"Image\").dropna(subset=[\"Image\"])\n",
    "dataset_df[['Product Name', 'Image']].head(10)"
   ]
  },
  {
   "cell_type": "code",
   "execution_count": null,
   "metadata": {},
   "outputs": [],
   "source": []
  },
  {
   "cell_type": "code",
   "execution_count": null,
   "metadata": {},
   "outputs": [],
   "source": []
  }
 ],
 "metadata": {
  "kernelspec": {
   "display_name": ".venv",
   "language": "python",
   "name": "python3"
  },
  "language_info": {
   "codemirror_mode": {
    "name": "ipython",
    "version": 3
   },
   "file_extension": ".py",
   "mimetype": "text/x-python",
   "name": "python",
   "nbconvert_exporter": "python",
   "pygments_lexer": "ipython3",
   "version": "3.11.9"
  }
 },
 "nbformat": 4,
 "nbformat_minor": 2
}
