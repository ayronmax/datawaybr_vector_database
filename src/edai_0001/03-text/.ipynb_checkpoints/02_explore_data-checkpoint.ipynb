{
 "cells": [
  {
   "cell_type": "markdown",
   "metadata": {},
   "source": [
    "# Explorar nosso Dataset"
   ]
  },
  {
   "cell_type": "code",
   "execution_count": 1,
   "metadata": {},
   "outputs": [],
   "source": [
    "import pandas as pd\n",
    "\n",
    "pd.options.display.max_columns = None\n",
    "pd.options.display.max_rows = None"
   ]
  },
  {
   "cell_type": "code",
   "execution_count": 2,
   "metadata": {},
   "outputs": [
    {
     "data": {
      "text/plain": [
       "Index(['Uniq Id', 'Product Name', 'Brand Name', 'Asin', 'Category',\n",
       "       'Upc Ean Code', 'List Price', 'Selling Price', 'Quantity',\n",
       "       'Model Number', 'About Product', 'Product Specification',\n",
       "       'Technical Details', 'Shipping Weight', 'Product Dimensions', 'Image',\n",
       "       'Variants', 'Sku', 'Product Url', 'Stock', 'Product Details',\n",
       "       'Dimensions', 'Color', 'Ingredients', 'Direction To Use',\n",
       "       'Is Amazon Seller', 'Size Quantity Variant', 'Product Description'],\n",
       "      dtype='object')"
      ]
     },
     "execution_count": 2,
     "metadata": {},
     "output_type": "execute_result"
    }
   ],
   "source": [
    "DATASET_FRACTION = 0.1\n",
    "\n",
    "dataset_path = 'data/images/home/sdf/marketing_sample_for_amazon_com-ecommerce__20200101_20200131__10k_data.csv'\n",
    "\n",
    "dataset_df = pd.read_csv(dataset_path).sample(frac=DATASET_FRACTION)\n",
    "dataset_df.columns"
   ]
  },
  {
   "cell_type": "code",
   "execution_count": 9,
   "metadata": {},
   "outputs": [
    {
     "data": {
      "text/html": [
       "<div>\n",
       "<style scoped>\n",
       "    .dataframe tbody tr th:only-of-type {\n",
       "        vertical-align: middle;\n",
       "    }\n",
       "\n",
       "    .dataframe tbody tr th {\n",
       "        vertical-align: top;\n",
       "    }\n",
       "\n",
       "    .dataframe thead th {\n",
       "        text-align: right;\n",
       "    }\n",
       "</style>\n",
       "<table border=\"1\" class=\"dataframe\">\n",
       "  <thead>\n",
       "    <tr style=\"text-align: right;\">\n",
       "      <th></th>\n",
       "      <th>Product Name</th>\n",
       "      <th>Category</th>\n",
       "    </tr>\n",
       "  </thead>\n",
       "  <tbody>\n",
       "    <tr>\n",
       "      <th>307</th>\n",
       "      <td>Bicycle Rider Back Playing Cards</td>\n",
       "      <td>Toys &amp; Games | Games &amp; Accessories | Card Game...</td>\n",
       "    </tr>\n",
       "    <tr>\n",
       "      <th>6300</th>\n",
       "      <td>Kid Motorz Fire Engine 2 Seater</td>\n",
       "      <td>Toys &amp; Games | Tricycles, Scooters &amp; Wagons | ...</td>\n",
       "    </tr>\n",
       "    <tr>\n",
       "      <th>2741</th>\n",
       "      <td>Ferrari Collapsible Two Wheels Scooter with Fr...</td>\n",
       "      <td>Sports &amp; Outdoors | Outdoor Recreation | Skate...</td>\n",
       "    </tr>\n",
       "    <tr>\n",
       "      <th>2860</th>\n",
       "      <td>Bloomingville AH0263 Wall Décor, White</td>\n",
       "      <td>Home &amp; Kitchen | Home Décor | Kids' Room Décor...</td>\n",
       "    </tr>\n",
       "    <tr>\n",
       "      <th>7854</th>\n",
       "      <td>Madd Gear MFX Aero Bars 24\" X 25\"</td>\n",
       "      <td>Sports &amp; Outdoors | Outdoor Recreation | Skate...</td>\n",
       "    </tr>\n",
       "  </tbody>\n",
       "</table>\n",
       "</div>"
      ],
      "text/plain": [
       "                                           Product Name  \\\n",
       "307                    Bicycle Rider Back Playing Cards   \n",
       "6300                    Kid Motorz Fire Engine 2 Seater   \n",
       "2741  Ferrari Collapsible Two Wheels Scooter with Fr...   \n",
       "2860             Bloomingville AH0263 Wall Décor, White   \n",
       "7854                  Madd Gear MFX Aero Bars 24\" X 25\"   \n",
       "\n",
       "                                               Category  \n",
       "307   Toys & Games | Games & Accessories | Card Game...  \n",
       "6300  Toys & Games | Tricycles, Scooters & Wagons | ...  \n",
       "2741  Sports & Outdoors | Outdoor Recreation | Skate...  \n",
       "2860  Home & Kitchen | Home Décor | Kids' Room Décor...  \n",
       "7854  Sports & Outdoors | Outdoor Recreation | Skate...  "
      ]
     },
     "execution_count": 9,
     "metadata": {},
     "output_type": "execute_result"
    }
   ],
   "source": [
    "dataset_df[['Product Name', 'Category']].head(5)"
   ]
  },
  {
   "cell_type": "code",
   "execution_count": null,
   "metadata": {},
   "outputs": [],
   "source": []
  },
  {
   "cell_type": "code",
   "execution_count": null,
   "metadata": {},
   "outputs": [],
   "source": []
  },
  {
   "cell_type": "code",
   "execution_count": null,
   "metadata": {},
   "outputs": [],
   "source": []
  }
 ],
 "metadata": {
  "kernelspec": {
   "display_name": ".venv",
   "language": "python",
   "name": "python3"
  },
  "language_info": {
   "codemirror_mode": {
    "name": "ipython",
    "version": 3
   },
   "file_extension": ".py",
   "mimetype": "text/x-python",
   "name": "python",
   "nbconvert_exporter": "python",
   "pygments_lexer": "ipython3",
   "version": "3.11.9"
  }
 },
 "nbformat": 4,
 "nbformat_minor": 2
}
