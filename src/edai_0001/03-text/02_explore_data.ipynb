{
 "cells": [
  {
   "cell_type": "markdown",
   "metadata": {},
   "source": [
    "# Explorar nosso Dataset"
   ]
  },
  {
   "cell_type": "code",
   "execution_count": 1,
   "metadata": {},
   "outputs": [],
   "source": [
    "import pandas as pd\n",
    "\n",
    "pd.options.display.max_columns = None\n",
    "pd.options.display.max_rows = None"
   ]
  },
  {
   "cell_type": "code",
   "execution_count": 2,
   "metadata": {},
   "outputs": [
    {
     "data": {
      "text/plain": [
       "Index(['Uniq Id', 'Product Name', 'Brand Name', 'Asin', 'Category',\n",
       "       'Upc Ean Code', 'List Price', 'Selling Price', 'Quantity',\n",
       "       'Model Number', 'About Product', 'Product Specification',\n",
       "       'Technical Details', 'Shipping Weight', 'Product Dimensions', 'Image',\n",
       "       'Variants', 'Sku', 'Product Url', 'Stock', 'Product Details',\n",
       "       'Dimensions', 'Color', 'Ingredients', 'Direction To Use',\n",
       "       'Is Amazon Seller', 'Size Quantity Variant', 'Product Description'],\n",
       "      dtype='object')"
      ]
     },
     "execution_count": 2,
     "metadata": {},
     "output_type": "execute_result"
    }
   ],
   "source": [
    "DATASET_FRACTION = 0.1\n",
    "\n",
    "dataset_path = 'data/images/home/sdf/marketing_sample_for_amazon_com-ecommerce__20200101_20200131__10k_data.csv'\n",
    "\n",
    "dataset_df = pd.read_csv(dataset_path).sample(frac=DATASET_FRACTION)\n",
    "dataset_df.columns"
   ]
  },
  {
   "cell_type": "code",
   "execution_count": 6,
   "metadata": {},
   "outputs": [
    {
     "data": {
      "text/html": [
       "<div>\n",
       "<style scoped>\n",
       "    .dataframe tbody tr th:only-of-type {\n",
       "        vertical-align: middle;\n",
       "    }\n",
       "\n",
       "    .dataframe tbody tr th {\n",
       "        vertical-align: top;\n",
       "    }\n",
       "\n",
       "    .dataframe thead th {\n",
       "        text-align: right;\n",
       "    }\n",
       "</style>\n",
       "<table border=\"1\" class=\"dataframe\">\n",
       "  <thead>\n",
       "    <tr style=\"text-align: right;\">\n",
       "      <th></th>\n",
       "      <th>Product Name</th>\n",
       "      <th>Category</th>\n",
       "      <th>Image</th>\n",
       "    </tr>\n",
       "  </thead>\n",
       "  <tbody>\n",
       "    <tr>\n",
       "      <th>8787</th>\n",
       "      <td>Rubie's Uncle Sam Pet Costume</td>\n",
       "      <td>Pet Supplies | Dogs | Apparel &amp; Accessories | ...</td>\n",
       "      <td>https://images-na.ssl-images-amazon.com/images...</td>\n",
       "    </tr>\n",
       "    <tr>\n",
       "      <th>9845</th>\n",
       "      <td>CGSignLab |\"Free Parking -Ghost Aged Brick\" Wi...</td>\n",
       "      <td>Home &amp; Kitchen | Home Décor | Window Treatment...</td>\n",
       "      <td>https://images-na.ssl-images-amazon.com/images...</td>\n",
       "    </tr>\n",
       "    <tr>\n",
       "      <th>1548</th>\n",
       "      <td>Vallejo Panzer Aces Paint Set</td>\n",
       "      <td>Toys &amp; Games | Hobbies | Hobby Building Tools ...</td>\n",
       "      <td>https://images-na.ssl-images-amazon.com/images...</td>\n",
       "    </tr>\n",
       "    <tr>\n",
       "      <th>7932</th>\n",
       "      <td>MARVEL SMASH, MARVEL SMASH SQUAD Spiderman</td>\n",
       "      <td>Toys &amp; Games | Baby &amp; Toddler Toys | Car Seat ...</td>\n",
       "      <td>https://images-na.ssl-images-amazon.com/images...</td>\n",
       "    </tr>\n",
       "    <tr>\n",
       "      <th>8610</th>\n",
       "      <td>Potato Head MPH Marvel Mashup Hawkeye &amp; Iron M...</td>\n",
       "      <td>NaN</td>\n",
       "      <td>https://images-na.ssl-images-amazon.com/images...</td>\n",
       "    </tr>\n",
       "  </tbody>\n",
       "</table>\n",
       "</div>"
      ],
      "text/plain": [
       "                                           Product Name  \\\n",
       "8787                      Rubie's Uncle Sam Pet Costume   \n",
       "9845  CGSignLab |\"Free Parking -Ghost Aged Brick\" Wi...   \n",
       "1548                      Vallejo Panzer Aces Paint Set   \n",
       "7932         MARVEL SMASH, MARVEL SMASH SQUAD Spiderman   \n",
       "8610  Potato Head MPH Marvel Mashup Hawkeye & Iron M...   \n",
       "\n",
       "                                               Category  \\\n",
       "8787  Pet Supplies | Dogs | Apparel & Accessories | ...   \n",
       "9845  Home & Kitchen | Home Décor | Window Treatment...   \n",
       "1548  Toys & Games | Hobbies | Hobby Building Tools ...   \n",
       "7932  Toys & Games | Baby & Toddler Toys | Car Seat ...   \n",
       "8610                                                NaN   \n",
       "\n",
       "                                                  Image  \n",
       "8787  https://images-na.ssl-images-amazon.com/images...  \n",
       "9845  https://images-na.ssl-images-amazon.com/images...  \n",
       "1548  https://images-na.ssl-images-amazon.com/images...  \n",
       "7932  https://images-na.ssl-images-amazon.com/images...  \n",
       "8610  https://images-na.ssl-images-amazon.com/images...  "
      ]
     },
     "execution_count": 6,
     "metadata": {},
     "output_type": "execute_result"
    }
   ],
   "source": [
    "dataset_df[['Product Name', 'Category','Image']].head(5)"
   ]
  },
  {
   "cell_type": "code",
   "execution_count": null,
   "metadata": {},
   "outputs": [],
   "source": []
  },
  {
   "cell_type": "code",
   "execution_count": null,
   "metadata": {},
   "outputs": [],
   "source": []
  },
  {
   "cell_type": "code",
   "execution_count": null,
   "metadata": {},
   "outputs": [],
   "source": []
  }
 ],
 "metadata": {
  "kernelspec": {
   "display_name": "Python 3 (ipykernel)",
   "language": "python",
   "name": "python3"
  },
  "language_info": {
   "codemirror_mode": {
    "name": "ipython",
    "version": 3
   },
   "file_extension": ".py",
   "mimetype": "text/x-python",
   "name": "python",
   "nbconvert_exporter": "python",
   "pygments_lexer": "ipython3",
   "version": "3.11.9"
  }
 },
 "nbformat": 4,
 "nbformat_minor": 4
}
